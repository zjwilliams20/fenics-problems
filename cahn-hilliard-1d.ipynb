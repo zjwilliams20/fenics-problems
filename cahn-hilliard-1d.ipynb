{
 "cells": [
  {
   "cell_type": "markdown",
   "metadata": {},
   "source": [
    "# Cahn-Hilliard 1D\n",
    "Adapted from fenics [Cahn-Hilliard 2D example](https://fenicsproject.org/docs/dolfin/latest/python/demos/cahn-hilliard/demo_cahn-hilliard.py.html).\n",
    "\n",
    "First form taken from paper: [_High Accuracy Benchmark Problems for Allen-Cahn and Cahn-Hilliard Dynamics_](http://www.global-sci.com/intro/article_detail/cicp/13225.html):\n",
    "$$u_t = -\\epsilon^2\\Delta\\Delta u +\\Delta(W^\\prime(u)),\\tag{1}$$where $$W(u) = \\frac{1}{4}(u^2-1)^2$$\n",
    "Second form taken from paper: [_Solving Allen-Cahn and Cahn-Hilliard Equations using the Adaptive Physics Informed Neural Networks_](https://arxiv.org/abs/2007.04542)\n",
    "$$u_t = \\Delta(\\gamma_2(u^3-u)-\\gamma_1\\Delta u) \\tag{2}$$"
   ]
  },
  {
   "cell_type": "code",
   "execution_count": 1,
   "metadata": {},
   "outputs": [],
   "source": [
    "from dolfin import *\n",
    "from time import perf_counter\n",
    "import scipy.io\n",
    "import numpy as np\n",
    "import matplotlib.animation as animation\n",
    "import matplotlib.pyplot as plt\n",
    "%matplotlib notebook\n",
    "\n",
    "output = \"solutions/cahn-hilliard-1d/\"\n",
    "\n",
    "# initial conditions\n",
    "RANDOM_ICs = 1\n",
    "EXPR_ICs   = 2"
   ]
  },
  {
   "cell_type": "code",
   "execution_count": 2,
   "metadata": {},
   "outputs": [],
   "source": [
    "# parameters\n",
    "#####################################\n",
    "\n",
    "nx       = 1000        # mesh points\n",
    "theta    = 0.5         # combo of current solution with previous\n",
    "dt       = 5.0e-3      # time step\n",
    "(x0, xf) = (0, 2*pi)   # x-boundaries\n",
    "\n",
    "IC       = EXPR_ICs    # initial conditions\n",
    "epsilon  = 0.18        # for EXPR_ICs\n",
    "height   = 1           # for RANDOM_ICs\n",
    "\n",
    "# Form compiler options\n",
    "parameters[\"form_compiler\"][\"optimize\"]     = True\n",
    "parameters[\"form_compiler\"][\"cpp_optimize\"] = True"
   ]
  },
  {
   "cell_type": "code",
   "execution_count": 3,
   "metadata": {},
   "outputs": [],
   "source": [
    "# Class for interfacing with the Newton solver\n",
    "class CahnHilliardEquation(NonlinearProblem):\n",
    "    def __init__(self, a, L):\n",
    "        NonlinearProblem.__init__(self)\n",
    "        self.L = L\n",
    "        self.a = a\n",
    "    def F(self, b, x):\n",
    "        assemble(self.L, tensor=b)\n",
    "    def J(self, A, x):\n",
    "        assemble(self.a, tensor=A)"
   ]
  },
  {
   "cell_type": "code",
   "execution_count": 4,
   "metadata": {},
   "outputs": [],
   "source": [
    "class PeriodicBoundary(SubDomain):\n",
    "    '''Sub domain for Periodic boundary condition'''\n",
    "    # Left boundary is target domain\n",
    "    def inside(self, x, on_boundary):\n",
    "        return near(x[0], x0) and on_boundary\n",
    "\n",
    "    # Map right boundary to left boundary\n",
    "    def map(self, x, y):\n",
    "        y[0] = x[0] - (xf - x0)"
   ]
  },
  {
   "cell_type": "code",
   "execution_count": 5,
   "metadata": {},
   "outputs": [],
   "source": [
    "class RandomIC(UserExpression):\n",
    "    '''Randomized uniform distribution over [0, height]'''\n",
    "    def __init__(self, height, **kwargs):\n",
    "        np.random.seed(2 + MPI.rank(MPI.comm_world))\n",
    "        super().__init__(**kwargs)\n",
    "        self.height = height\n",
    "    def eval(self, values, x):\n",
    "        values[0] = self.height * np.random.rand()\n",
    "        values[1] = 0.0\n",
    "    def value_shape(self):\n",
    "        return (2,)"
   ]
  },
  {
   "cell_type": "markdown",
   "metadata": {},
   "source": [
    "### _Benchmark III_\n",
    "Initial conditions taken from paper: [_High Accuracy Benchmark Problems for Allen-Cahn and Cahn-Hilliard Dynamics_](http://www.global-sci.com/intro/article_detail/cicp/13225.html).\n",
    "$$u(x,0)=cos(2x)+\\frac{1}{100}e^{\\cos(x+\\frac{1}{10})} $$"
   ]
  },
  {
   "cell_type": "code",
   "execution_count": 6,
   "metadata": {},
   "outputs": [],
   "source": [
    "class ExprIC(UserExpression):\n",
    "    def __init__(self, **kwargs):\n",
    "        super().__init__(**kwargs)\n",
    "    def eval(self, values, x):\n",
    "        values[0] = np.cos(2*x[0]) + 1/100 * np.exp(np.cos(x[0] + 1/10))\n",
    "        values[1] = 0.0\n",
    "    def value_shape(self):\n",
    "        return (2,)"
   ]
  },
  {
   "cell_type": "code",
   "execution_count": 7,
   "metadata": {
    "scrolled": true
   },
   "outputs": [
    {
     "ename": "TypeError",
     "evalue": "__init__(): incompatible constructor arguments. The following argument types are supported:\n    1. dolfin.cpp.mesh.SubDomain(map_tol: float = 1e-10)\n\nInvoked with: 0, 6.283185307179586",
     "output_type": "error",
     "traceback": [
      "\u001b[0;31m---------------------------------------------------------------------------\u001b[0m",
      "\u001b[0;31mTypeError\u001b[0m                                 Traceback (most recent call last)",
      "\u001b[0;32m<ipython-input-7-089515e44b72>\u001b[0m in \u001b[0;36m<module>\u001b[0;34m\u001b[0m\n\u001b[1;32m      3\u001b[0m \u001b[0;34m\u001b[0m\u001b[0m\n\u001b[1;32m      4\u001b[0m \u001b[0;31m# create periodic boundary condition\u001b[0m\u001b[0;34m\u001b[0m\u001b[0;34m\u001b[0m\u001b[0;34m\u001b[0m\u001b[0m\n\u001b[0;32m----> 5\u001b[0;31m \u001b[0mpbc\u001b[0m \u001b[0;34m=\u001b[0m \u001b[0mPeriodicBoundary\u001b[0m\u001b[0;34m(\u001b[0m\u001b[0mx0\u001b[0m\u001b[0;34m,\u001b[0m \u001b[0mxf\u001b[0m\u001b[0;34m)\u001b[0m\u001b[0;34m\u001b[0m\u001b[0;34m\u001b[0m\u001b[0m\n\u001b[0m\u001b[1;32m      6\u001b[0m \u001b[0mbc\u001b[0m \u001b[0;34m=\u001b[0m \u001b[0;34m[\u001b[0m\u001b[0;34m]\u001b[0m\u001b[0;34m\u001b[0m\u001b[0;34m\u001b[0m\u001b[0m\n\u001b[1;32m      7\u001b[0m \u001b[0;34m\u001b[0m\u001b[0m\n",
      "\u001b[0;31mTypeError\u001b[0m: __init__(): incompatible constructor arguments. The following argument types are supported:\n    1. dolfin.cpp.mesh.SubDomain(map_tol: float = 1e-10)\n\nInvoked with: 0, 6.283185307179586"
     ]
    }
   ],
   "source": [
    "# formulate problem\n",
    "#####################################\n",
    "\n",
    "# create periodic boundary condition\n",
    "pbc = PeriodicBoundary(x0, xf)\n",
    "bc = []\n",
    "\n",
    "# setup mesh\n",
    "mesh = IntervalMesh(nx, x0, xf)\n",
    "P1 = FiniteElement(\"Lagrange\", mesh.ufl_cell(), 1)\n",
    "ME = FunctionSpace(mesh, P1*P1, constrained_domain=pbc)\n",
    "\n",
    "# define trial and test functions\n",
    "du = TrialFunction(ME)\n",
    "(v, q) = TestFunction(ME)\n",
    "\n",
    "# define functions\n",
    "u = Function(ME)\n",
    "u0 = Function(ME)\n",
    "\n",
    "# split mixed functions\n",
    "(dq, dmu) = split(du)\n",
    "(c,  mu)  = split(u)\n",
    "(c0, mu0) = split(u0)\n",
    "\n",
    "# initial conditions\n",
    "if IC == RANDOM_ICs:\n",
    "    u_init = RandomIC(height, degree=0)\n",
    "elif IC == EXPR_ICs:\n",
    "    u_init = ExprIC(degree=1)\n",
    "u.interpolate(u_init)\n",
    "u0.interpolate(u_init)\n",
    "\n",
    "# time discretization\n",
    "# mu_(n+theta)\n",
    "mu_mid = (1.0-theta)*mu0 + theta*mu"
   ]
  },
  {
   "cell_type": "code",
   "execution_count": null,
   "metadata": {},
   "outputs": [],
   "source": [
    "\n",
    "c = variable(c)\n",
    "W = 1/4 * (c**2 - 1)**2\n",
    "dWdc = diff(W, c)\n",
    "\n",
    "F0 = c*q*dx - c0*q*dx + dt*epsilon**2*dot(grad(mu_mid), grad(q))*dx + \\\n",
    "      dt*dot(grad(dWdc), grad(q))*dx\n",
    "F1 = mu*v*dx - dot(grad(c), grad(v))*dx\n",
    "F = F0 + F1\n",
    "\n",
    "# gamma1 = Constant(1.0e-6)\n",
    "# gamma2 = Constant(1.0/100)\n",
    "\n",
    "# F0 = c*q*dx - c0*q*dx + dt*dot(grad(mu_mid), grad(q))*dx\n",
    "# F1 = mu*v*dx - gamma2*(c**3 - c)*v*dx - gamma1*dot(grad(c), grad(v))*dx\n",
    "# F = F0 + F1\n",
    "\n",
    "# compute Jacobian\n",
    "J = derivative(F, u, du)"
   ]
  },
  {
   "cell_type": "code",
   "execution_count": null,
   "metadata": {},
   "outputs": [],
   "source": [
    "# problem for Newton Solver\n",
    "# problem = CahnHilliardEquation(J, F)\n",
    "# solver = NewtonSolver()\n",
    "\n",
    "# problem for PETScSolver\n",
    "problem = NonlinearVariationalProblem(F, u, bc, J)\n",
    "solver = NonlinearVariationalSolver(problem)\n",
    "\n",
    "file = File(output + \"data/ch1.pvd\")"
   ]
  },
  {
   "cell_type": "code",
   "execution_count": null,
   "metadata": {},
   "outputs": [],
   "source": [
    "# map mesh vertices to solution DOFs\n",
    "#####################################\n",
    "\n",
    "dof_coordinates = ME.tabulate_dof_coordinates()\n",
    "c_dofs = ME.sub(0).dofmap().dofs()\n",
    "\n",
    "# get indicies of sorted result\n",
    "dofs      = np.squeeze(dof_coordinates[c_dofs])\n",
    "asc_order = np.argsort(dofs)"
   ]
  },
  {
   "cell_type": "code",
   "execution_count": null,
   "metadata": {
    "scrolled": false
   },
   "outputs": [],
   "source": [
    "# time stepping\n",
    "#####################################\n",
    "\n",
    "(t, T) = (0.0, 10)\n",
    "(n, N) = (0, int(round(T/dt, 0)))\n",
    "\n",
    "plt.figure(1)\n",
    "plt.title(\"$u(t)$\")\n",
    "plt.xlabel(\"$x$\")\n",
    "labels = []\n",
    "\n",
    "sol = {}\n",
    "sol['x'] = dofs[asc_order]\n",
    "sol['t'] = np.zeros((N,1))\n",
    "sol['u'] = np.zeros((len(sol['x']), len(sol['t'])))\n",
    "\n",
    "t0 = perf_counter()\n",
    "while n < N:\n",
    "    \n",
    "    # compute current solution\n",
    "    # solver.solve(problem, u.vector()) # Newton\n",
    "    solver.solve() # PETSc\n",
    "    \n",
    "    # save output\n",
    "    # file << (u.split()[0], t)\n",
    "    sol['t'][n] = t\n",
    "    sol['u'][:,n] = u.vector()[c_dofs][asc_order]\n",
    "    \n",
    "    # update previous solution\n",
    "    u0.vector()[:] = u.vector()\n",
    "    \n",
    "    # plot 6 solution snapshots\n",
    "    if n % round(N/6,0) == 0:\n",
    "        plt.plot(dofs[asc_order], u.vector()[c_dofs][asc_order])\n",
    "        labels.append(f\"t = {t/T:.2f}\")\n",
    "    \n",
    "    # print progress\n",
    "    if n % round(N/10,0) == 0:\n",
    "        print(f\"{n} / {N}\")\n",
    "        \n",
    "    # increment time\n",
    "    t += dt\n",
    "    n += 1\n",
    "    \n",
    "tf = perf_counter()\n",
    "print(f\"\\nTook {tf-t0:.2f} seconds.\")\n",
    "\n",
    "plt.legend(labels)\n",
    "plt.show()"
   ]
  },
  {
   "cell_type": "code",
   "execution_count": null,
   "metadata": {},
   "outputs": [],
   "source": [
    "def snapshot(i):\n",
    "    plt.clf()\n",
    "    plt.plot(sol['x'], sol['u'][:,i],'b-',linewidth = 3)       \n",
    "    plt.rc('xtick',labelsize=12)\n",
    "    plt.rc('ytick',labelsize=12)\n",
    "    plt.ylim([-1.05, 1.05])\n",
    "    plt.xlabel('$x$',fontsize='x-large')\n",
    "    plt.ylabel('$u(t,x)$',fontsize='x-large')\n",
    "    plt.title('Cahn-Hilliard')"
   ]
  },
  {
   "cell_type": "code",
   "execution_count": null,
   "metadata": {},
   "outputs": [],
   "source": [
    "fig = plt.figure(figsize=(8,8), dpi=100)\n",
    "snapshot(N-1)"
   ]
  },
  {
   "cell_type": "code",
   "execution_count": null,
   "metadata": {
    "scrolled": false
   },
   "outputs": [],
   "source": [
    "fig = plt.figure(figsize=(8,8), dpi=100)\n",
    "anim = animation.FuncAnimation(fig,snapshot,frames=N)\n",
    "if IC == RANDOM_ICs:\n",
    "    gifname = 'cahn-hilliard-1d_rand.mp4'\n",
    "elif IC == EXPR_ICs:\n",
    "    gifname = 'cahn-hilliard-1d_expr.mp4'\n",
    "anim.save(output + gifname,fps=N/10)"
   ]
  }
 ],
 "metadata": {
  "kernelspec": {
   "display_name": "Python 3",
   "language": "python",
   "name": "python3"
  },
  "language_info": {
   "codemirror_mode": {
    "name": "ipython",
    "version": 3
   },
   "file_extension": ".py",
   "mimetype": "text/x-python",
   "name": "python",
   "nbconvert_exporter": "python",
   "pygments_lexer": "ipython3",
   "version": "3.8.5"
  }
 },
 "nbformat": 4,
 "nbformat_minor": 4
}
